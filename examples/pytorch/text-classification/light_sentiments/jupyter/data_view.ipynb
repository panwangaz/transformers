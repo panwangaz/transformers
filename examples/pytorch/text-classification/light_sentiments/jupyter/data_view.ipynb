{
 "cells": [
  {
   "cell_type": "code",
   "execution_count": 1,
   "id": "c517fae6-0a6a-4ad9-94a6-8db21224738c",
   "metadata": {},
   "outputs": [
    {
     "name": "stderr",
     "output_type": "stream",
     "text": [
      "100%|█████████████████████████████████████████████████████████████████████████████████████████████████████████████| 5139/5139 [00:00<00:00, 801700.82it/s]\n"
     ]
    }
   ],
   "source": [
    "import os\n",
    "import json\n",
    "from tqdm import tqdm\n",
    "\n",
    "def load_prelabel_output_dir(path):\n",
    "    files = [os.path.join(path, i) for i in os.listdir(path) if '.json' in i]\n",
    "    with open(files[0], \"r\") as jf:\n",
    "        data = json.load(jf)\n",
    "    for file in files[1:]:\n",
    "        with open(file, \"r\") as jf:\n",
    "            data_new = json.load(jf)\n",
    "            data.update(data_new)\n",
    "    return data\n",
    "\n",
    "data = load_prelabel_output_dir('/data/yangxiaoran/nonrt_init/pay_rate_level_train/data/sentiment_valid_new/')\n",
    "\n",
    "with open('./tmp/sst2/order_id_predict.json','r') as jf:\n",
    "    data_predict = json.load(jf)\n",
    "\n",
    "data_pf,data_pt,data_nf,data_nt,data_mf,data_mt = {},{},{},{},{},{}\n",
    "pf_num,pt_num,nf_num,nt_num,mf_num,mt_num = 0,0,0,0,0,0\n",
    "\n",
    "for order_id in tqdm(data_predict):\n",
    "    if order_id not in data:\n",
    "        continue\n",
    "    for group_id in data_predict[order_id]:\n",
    "        if group_id not in data[order_id]:\n",
    "            continue\n",
    "        if (data_predict[order_id][group_id]['true'] != 2) and (data_predict[order_id][group_id]['predict'] == 2):\n",
    "            if pf_num not in data_pf:\n",
    "                data_pf[pf_num] = {}\n",
    "            data_pf[pf_num]['history'] = data[order_id][group_id]['history']\n",
    "            data_pf[pf_num]['current'] = data[order_id][group_id]['current']\n",
    "            data_pf[pf_num]['score'] = data[order_id][group_id]['score']\n",
    "            pf_num += 1\n",
    "        \n",
    "        if (data_predict[order_id][group_id]['true'] == 2) and (data_predict[order_id][group_id]['predict'] == 2):\n",
    "            if pt_num not in data_pt:\n",
    "                data_pt[pt_num] = {}\n",
    "            data_pt[pt_num]['history'] = data[order_id][group_id]['history']\n",
    "            data_pt[pt_num]['current'] = data[order_id][group_id]['current']\n",
    "            data_pt[pt_num]['score'] = data[order_id][group_id]['score']\n",
    "            pt_num += 1\n",
    "        \n",
    "        if (data_predict[order_id][group_id]['true'] != 0) and (data_predict[order_id][group_id]['predict'] == 0):\n",
    "            if nf_num not in data_nf:\n",
    "                data_nf[nf_num] = {}\n",
    "            data_nf[nf_num]['history'] = data[order_id][group_id]['history']\n",
    "            data_nf[nf_num]['current'] = data[order_id][group_id]['current']\n",
    "            data_nf[nf_num]['score'] = data[order_id][group_id]['score']\n",
    "            nf_num += 1\n",
    "\n",
    "        if (data_predict[order_id][group_id]['true'] == 0) and (data_predict[order_id][group_id]['predict'] == 0):\n",
    "            if nt_num not in data_nt:\n",
    "                data_nt[nt_num] = {}\n",
    "            data_nt[nt_num]['history'] = data[order_id][group_id]['history']\n",
    "            data_nt[nt_num]['current'] = data[order_id][group_id]['current']\n",
    "            data_nt[nt_num]['score'] = data[order_id][group_id]['score']\n",
    "            nt_num += 1\n",
    "\n",
    "        if (data_predict[order_id][group_id]['true'] != 1) and (data_predict[order_id][group_id]['predict'] == 1):\n",
    "            if mf_num not in data_mf:\n",
    "                data_mf[mf_num] = {}\n",
    "            data_mf[mf_num]['history'] = data[order_id][group_id]['history']\n",
    "            data_mf[mf_num]['current'] = data[order_id][group_id]['current']\n",
    "            data_mf[mf_num]['score'] = data[order_id][group_id]['score']\n",
    "            mf_num += 1\n",
    "\n",
    "        if (data_predict[order_id][group_id]['true'] == 1) and (data_predict[order_id][group_id]['predict'] == 1):\n",
    "            if mt_num not in data_mt:\n",
    "                data_mt[mt_num] = {}\n",
    "            data_mt[mt_num]['history'] = data[order_id][group_id]['history']\n",
    "            data_mt[mt_num]['current'] = data[order_id][group_id]['current']\n",
    "            data_mt[mt_num]['score'] = data[order_id][group_id]['score']\n",
    "            mt_num += 1"
   ]
  },
  {
   "cell_type": "code",
   "execution_count": 7,
   "id": "955b4a9b-d9fb-4b2b-bf9c-f953ec147aaf",
   "metadata": {},
   "outputs": [
    {
     "name": "stdout",
     "output_type": "stream",
     "text": [
      "history:\n",
      " 0. [user]: Hi \n",
      "1. [advisor]: Hi and welcome.  \n",
      "2. [advisor]: how are you today \n",
      "3. [user]: Good \n",
      "4. [advisor]: how may I help you?  \n",
      "5. [user]: I was just thinking . Is there one out there ready to spend there life with me ? \n",
      "6. [user]: If is please give me some answers !! \n",
      "7. [advisor]: Do you have someone you are interested in now? \n",
      "8. [advisor]: I can help you check \n",
      "9. [user]: Well is but I don’t know how he really feels  \n",
      "10. [advisor]: But I need some information to connect the energy \n",
      "11. [advisor]: Can you tell me the names and dates of birth of both of you? \n",
      "12. [user]: We were together for like a long time  \n",
      "13. [advisor]: Thank you \n",
      "14. [user]: My birthday is 10/19 and his is 4/27 \n",
      "15. [user]: Jay and mari \n",
      "16. [advisor]: I'll help you connect please wait a moment \n",
      "17. [user]: Ok \n",
      "18. [advisor]: I see that you two have an emotional connection \n",
      "19. [user]: Yesd \n",
      "20. [advisor]: You have a mutual attraction to each other \n",
      "21. [user]: Yes \n",
      "22. [advisor]: His intentions for you are pure \n",
      "23. [advisor]: He has romantic feelings for you \n",
      "24. [advisor]: But the energy of the two of you is still unstable \n",
      "25. [advisor]: This affects the development of your two feelings \n",
      "\n",
      "current:\n",
      " 26. [user]: Okay how do I make our relationship work ? \n",
      "\n",
      "score:\n",
      " 0.20000000000000004\n"
     ]
    }
   ],
   "source": [
    "show_idx = 5\n",
    "print('history:\\n',data_pf[show_idx]['history'])\n",
    "print('current:\\n',data_pf[show_idx]['current'])\n",
    "print('score:\\n',data_pf[show_idx]['score'])"
   ]
  },
  {
   "cell_type": "code",
   "execution_count": 14,
   "id": "ea4ab684-329c-4d1c-a5cf-b8f238b2e7a2",
   "metadata": {},
   "outputs": [
    {
     "name": "stdout",
     "output_type": "stream",
     "text": [
      "history:\n",
      " 0. [advisor]: Hi, what can I do for you? \n",
      "1. [user]: Hi, I’m Nick Williams born 20/08/1975 and I’m in love with Emma Jackson born 20/10/1987. Are we destined to be together please  \n",
      "2. [advisor]: Okay, thanks \n",
      "3. [advisor]: Honestly, I see that she is sincere to you, loves you very much and wants to be with you and your future, so his heart is in the right place. \n",
      "4. [advisor]: How's your connection these days, honey? \n",
      "5. [user]: We were together for a while then split now starting to talk again \n",
      "6. [user]: I can’t stop thinking about her and I miss her so much \n",
      "7. [advisor]: I understand, but even though there was separation she still cares deeply and thinks about you often \n",
      "8. [user]: Thankyou \n",
      "9. [advisor]: But it will come slowly, but I really feel like you are good companions for each other. \n",
      "10. [advisor]: You're welcome \n",
      "11. [user]: I want it to be slow this time \n",
      "12. [advisor]: What led to the breakup, my dear \n",
      "13. [user]: We had a argument  \n",
      "14. [user]: Over something stupid \n",
      "15. [advisor]: That's good, because I don't want you to rush and you need to communicate more \n",
      "16. [advisor]: more understanding. \n",
      "\n",
      "current:\n",
      " 17. [user]: That’s what we are doing now thankfully, I want it right this time for both of us \n",
      "\n",
      "score:\n",
      " 0.5333333333333333\n"
     ]
    }
   ],
   "source": [
    "show_idx = 32\n",
    "print('history:\\n',data_pt[show_idx]['history'])\n",
    "print('current:\\n',data_pt[show_idx]['current'])\n",
    "print('score:\\n',data_pt[show_idx]['score'])"
   ]
  },
  {
   "cell_type": "code",
   "execution_count": 17,
   "id": "95d1184c-4ae1-4457-a657-b0cc83483817",
   "metadata": {},
   "outputs": [
    {
     "name": "stdout",
     "output_type": "stream",
     "text": [
      "history:\n",
      " 0. [user]: Hi Lena \n",
      "1. [advisor]: welcome: how may i help you? \n",
      "2. [user]: How are you today? \n",
      "3. [advisor]: i am good thanks \n",
      "4. [user]: I’m just concerned about my love life 😅 \n",
      "5. [advisor]: Do you have anyone special? \n",
      "6. [user]: I’m trying to get thru to my partner  \n",
      "7. [user]: Yes I do (did) \n",
      "8. [user]: Idk where I stand with them at the moment  \n",
      "9. [advisor]: Can you provide me the birth dates and names of the two of you \n",
      "10. [user]: I’m Osiris 5/9/1983 \n",
      "11. [advisor]: I will connect to your energies and get insight \n",
      "12. [user]: And she is Tihane 4/11/1989 \n",
      "13. [user]: Thank you  \n",
      "14. [advisor]: I can see that a strong connection between you both \n",
      "15. [user]: Yes it was quick lol \n",
      "16. [user]: But we understand each other deeply, or so I thought so \n",
      "17. [advisor]: But I've also seen the distance and lack of communication \n",
      "18. [advisor]: Yes \n",
      "19. [user]: She choose to retreat at nye \n",
      "20. [advisor]: Yes, I saw that she seemed so far away from you \n",
      "21. [advisor]: She is going through a emotional difficulty \n",
      "\n",
      "current:\n",
      " 22. [user]: I had to deal with work and she just went off with friends but I  expressed to her my deep hurts and I wasn’t in a place to be  \n",
      "23. [user]: I can sense that but i don’t know why or how to remedy it \n",
      "\n",
      "score:\n",
      " -0.26666666666666666\n"
     ]
    }
   ],
   "source": [
    "show_idx = 4\n",
    "print('history:\\n',data_nf[show_idx]['history'])\n",
    "print('current:\\n',data_nf[show_idx]['current'])\n",
    "print('score:\\n',data_nf[show_idx]['score'])"
   ]
  },
  {
   "cell_type": "code",
   "execution_count": 20,
   "id": "2aff345e-70ce-434c-80ab-e01d040d3a2e",
   "metadata": {},
   "outputs": [
    {
     "name": "stdout",
     "output_type": "stream",
     "text": [
      "history:\n",
      " 0. [advisor]: How can I help you? \n",
      "1. [user]: Hello \n",
      "2. [advisor]: I would be happy to help you in this matter, just to connect may I have both of your names and dob please? \n",
      "3. [advisor]: I am here \n",
      "4. [advisor]: Please give details  \n",
      "5. [advisor]: Please tell me do you have partner or have break up with him? \n",
      "6. [advisor]: Your name and DOB? \n",
      "7. [user]: Gul sodhi  \n",
      "8. [advisor]: Date of birth? \n",
      "9. [user]: 25 Jan 1991  \n",
      "10. [user]: This is me  \n",
      "11. [user]: And my ex  \n",
      "12. [advisor]: Okay Gul sodhi let me connect with energies, hold a moment  \n",
      "13. [advisor]: Thanks for your valuable patience Gul sodhi \n",
      "14. [user]: 07 nov 1995  \n",
      "15. [advisor]: I am reading and connected with your both energies and I can sense that this person, in fact seems to me interested but he have feelings for you, \n",
      "16. [user]: Sagar Mishra  \n",
      "17. [advisor]: He still seems to me attracted towards you \n",
      "18. [advisor]: He seem to me have strong connection with you, as I can sense that he is thinking about you and getting more interested because there are great things which \n",
      "\n",
      "current:\n",
      " 19. [user]: But he broke up  \n",
      "\n",
      "score:\n",
      " -0.5333333333333333\n"
     ]
    }
   ],
   "source": [
    "show_idx = 4\n",
    "print('history:\\n',data_nt[show_idx]['history'])\n",
    "print('current:\\n',data_nt[show_idx]['current'])\n",
    "print('score:\\n',data_nt[show_idx]['score'])"
   ]
  },
  {
   "cell_type": "code",
   "execution_count": 25,
   "id": "8b733d85-8fa9-4c4a-a599-5554e131e1d6",
   "metadata": {},
   "outputs": [
    {
     "name": "stdout",
     "output_type": "stream",
     "text": [
      "history:\n",
      " 0. [advisor]: Hi and welcome💕What is your specific question please?Let me help you \n",
      "1. [advisor]: May I have your name and date of birth please \n",
      "2. [advisor]: Thank you💕 \n",
      "3. [user]: Andrew Bea May 4, 1994 \n",
      "4. [advisor]: And what is your question Andrew? \n",
      "5. [user]: The path I have chosen will I be successful? and will I love again or find it? \n",
      "6. [advisor]: Yes I do feel your path is clear \n",
      "7. [advisor]: You are going down the right path \n",
      "8. [advisor]: Yes you will find love \n",
      "9. [user]: Will it be new love or old? \n",
      "10. [advisor]: There is a person who has feelings for you \n",
      "11. [advisor]: Old person \n",
      "12. [advisor]: I feel there is someone from your past who keeps thinking about you \n",
      "13. [advisor]: Who is this person? \n",
      "14. [user]: Ok. Was I with them before? \n",
      "15. [advisor]: This person has been through a lot as well \n",
      "16. [advisor]: Yes \n",
      "17. [advisor]: they are still connected with you \n",
      "\n",
      "current:\n",
      " 18. [user]: I think I know who it is, we just recently departed ways \n",
      "19. [user]: Thought she was my two flame still feel like she is \n",
      "20. [user]: Twin* \n",
      "\n",
      "score:\n",
      " 0.5\n"
     ]
    }
   ],
   "source": [
    "show_idx = 6\n",
    "print('history:\\n',data_mf[show_idx]['history'])\n",
    "print('current:\\n',data_mf[show_idx]['current'])\n",
    "print('score:\\n',data_mf[show_idx]['score'])"
   ]
  },
  {
   "cell_type": "code",
   "execution_count": 27,
   "id": "661fd487-8f17-40da-a188-58b908da4b42",
   "metadata": {},
   "outputs": [
    {
     "name": "stdout",
     "output_type": "stream",
     "text": [
      "history:\n",
      " 0. [advisor]: How can I help you? \n",
      "1. [user]: hi \n",
      "2. [advisor]: Yes sure, I will need both of your full names and age so that i could give you clarity on this matter \n",
      "3. [advisor]: Sure please tell me what type of reading do you want? \n",
      "4. [advisor]: Your name? \n",
      "5. [user]: Sara  \n",
      "6. [user]: Love Reading  \n",
      "7. [advisor]: Okay Sara, May I know your date of birth along with your question? \n",
      "8. [advisor]: Do you have any specific person in mind or just in general? \n",
      "9. [user]: 13 - 09 - 2005 \n",
      "10. [user]: 2004 \n",
      "11. [user]: *** \n",
      "12. [advisor]: Okay I am sorry but our chat will be ending soon please be quick \n",
      "13. [advisor]: Please be back because credits are not enough \n",
      "14. [advisor]: Sorry \n",
      "15. [user]: Okeee \n",
      "16. [advisor]: 🥺 \n",
      "17. [user]: Love Reading avond mohsen \n",
      "18. [user]: About \n",
      "19. [advisor]: Okay sure \n",
      "20. [advisor]: I am connecting with your energies  \n",
      "21. [advisor]: Please hold on \n",
      "22. [user]: okay \n",
      "23. [advisor]: Thanks for your valuable patience  \n",
      "24. [advisor]: I am reading and connected with your energies and it seems that you both seems to me have very strong connection with each other, but at this stage I \n",
      "25. [advisor]: Seems to me feeling so much off in his energies  \n",
      "26. [advisor]: Means he not seems to me able to give you attention because I found that there are lot of problems around him  \n",
      "27. [user]: ohh  \n",
      "28. [advisor]: Means he is not able to figure out things between you both  \n",
      "29. [advisor]: He is not able to understand where is the problem,  \n",
      "30. [user]: Is hè my soulmate  \n",
      "31. [advisor]: It's not that he is losing interest in you,  \n",
      "\n",
      "current:\n",
      " 32. [user]: Okay \n",
      "\n",
      "score:\n",
      " 0.13333333333333333\n"
     ]
    }
   ],
   "source": [
    "show_idx = 10\n",
    "print('history:\\n',data_mt[show_idx]['history'])\n",
    "print('current:\\n',data_mt[show_idx]['current'])\n",
    "print('score:\\n',data_mt[show_idx]['score'])"
   ]
  }
 ],
 "metadata": {
  "kernelspec": {
   "display_name": "Python 3 (ipykernel)",
   "language": "python",
   "name": "python3"
  },
  "language_info": {
   "codemirror_mode": {
    "name": "ipython",
    "version": 3
   },
   "file_extension": ".py",
   "mimetype": "text/x-python",
   "name": "python",
   "nbconvert_exporter": "python",
   "pygments_lexer": "ipython3",
   "version": "3.9.17"
  }
 },
 "nbformat": 4,
 "nbformat_minor": 5
}
